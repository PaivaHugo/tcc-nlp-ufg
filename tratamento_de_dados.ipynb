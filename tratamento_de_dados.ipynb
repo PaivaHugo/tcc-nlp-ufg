{
 "cells": [
  {
   "cell_type": "markdown",
   "id": "0d6fd34c",
   "metadata": {},
   "source": [
    "# Tratamento inicial de dados"
   ]
  },
  {
   "cell_type": "markdown",
   "id": "8402a868",
   "metadata": {},
   "source": [
    "Aqui iniciaremos nosso tratemento inicial de dados, vamos converter o JSON com as matérias coletadas para um Dataframe e incluir as colunas com os resumos de cada matéria para cada persona."
   ]
  },
  {
   "cell_type": "markdown",
   "id": "0cfdfd80",
   "metadata": {},
   "source": [
    "Estrutura do dataframe:\n",
    "- id: Identificador associado a cada matéria\n",
    "- categoria: Categoria a qual a matéria pertence\n",
    "- titulo: Titulo da matéria\n",
    "- subtitulo: Subtítulo da matéria\n",
    "- texto: Texto completo da matéria\n",
    "- resumo_persona_1: Resumo gerado usando a LLM escolhida para a persona 1\n",
    "- resumo_persona_2: Resumo gerado usando a LLM escolhida para a persona 2\n",
    "- resumo_persona_3: Resumo gerado usando a LLM escolhida para a persona 3"
   ]
  },
  {
   "cell_type": "markdown",
   "id": "d1e41f48",
   "metadata": {},
   "source": [
    "### Importando bibliotecas utilizadas"
   ]
  },
  {
   "cell_type": "code",
   "execution_count": 1,
   "id": "d5244aa9",
   "metadata": {},
   "outputs": [],
   "source": [
    "import json\n",
    "import pandas as pd\n",
    "import warnings\n",
    "from summary_builder import SummaryBuilder\n",
    "\n",
    "warnings.filterwarnings('ignore')\n"
   ]
  },
  {
   "cell_type": "markdown",
   "id": "46cde364",
   "metadata": {},
   "source": [
    "### Leitura dos dados"
   ]
  },
  {
   "cell_type": "code",
   "execution_count": 29,
   "id": "121d219d",
   "metadata": {},
   "outputs": [],
   "source": [
    "with open(\"./materias.json\", \"r\") as f:\n",
    "    materias = json.load(f)\n",
    "\n",
    "with open(\"./personas.json\", \"r\") as f:\n",
    "    personas = json.load(f)\n",
    "\n",
    "# print(json.dumps(materias, indent=2))\n",
    "# print(json.dumps(personas, indent=2))"
   ]
  },
  {
   "cell_type": "code",
   "execution_count": 30,
   "id": "9e7a6324",
   "metadata": {},
   "outputs": [
    {
     "data": {
      "text/html": [
       "<div>\n",
       "<style scoped>\n",
       "    .dataframe tbody tr th:only-of-type {\n",
       "        vertical-align: middle;\n",
       "    }\n",
       "\n",
       "    .dataframe tbody tr th {\n",
       "        vertical-align: top;\n",
       "    }\n",
       "\n",
       "    .dataframe thead th {\n",
       "        text-align: right;\n",
       "    }\n",
       "</style>\n",
       "<table border=\"1\" class=\"dataframe\">\n",
       "  <thead>\n",
       "    <tr style=\"text-align: right;\">\n",
       "      <th></th>\n",
       "      <th>categoria</th>\n",
       "      <th>url</th>\n",
       "      <th>titulo</th>\n",
       "      <th>subtitulo</th>\n",
       "      <th>texto</th>\n",
       "      <th>resumo_persona_1</th>\n",
       "      <th>resumo_persona_2</th>\n",
       "      <th>resumo_persona_3</th>\n",
       "    </tr>\n",
       "    <tr>\n",
       "      <th>id</th>\n",
       "      <th></th>\n",
       "      <th></th>\n",
       "      <th></th>\n",
       "      <th></th>\n",
       "      <th></th>\n",
       "      <th></th>\n",
       "      <th></th>\n",
       "      <th></th>\n",
       "    </tr>\n",
       "  </thead>\n",
       "  <tbody>\n",
       "    <tr>\n",
       "      <th>4</th>\n",
       "      <td>saude</td>\n",
       "      <td>https://g1.globo.com/saude/bem-estar/noticia/2...</td>\n",
       "      <td>Só um país é autossuficiente para dieta saudáv...</td>\n",
       "      <td>Pesquisa mapeou o quanto a produção de sete gr...</td>\n",
       "      <td>Em uma era de crescente nacionalismos e disrup...</td>\n",
       "      <td></td>\n",
       "      <td></td>\n",
       "      <td></td>\n",
       "    </tr>\n",
       "  </tbody>\n",
       "</table>\n",
       "</div>"
      ],
      "text/plain": [
       "   categoria                                                url  \\\n",
       "id                                                                \n",
       "4      saude  https://g1.globo.com/saude/bem-estar/noticia/2...   \n",
       "\n",
       "                                               titulo  \\\n",
       "id                                                      \n",
       "4   Só um país é autossuficiente para dieta saudáv...   \n",
       "\n",
       "                                            subtitulo  \\\n",
       "id                                                      \n",
       "4   Pesquisa mapeou o quanto a produção de sete gr...   \n",
       "\n",
       "                                                texto resumo_persona_1  \\\n",
       "id                                                                       \n",
       "4   Em uma era de crescente nacionalismos e disrup...                    \n",
       "\n",
       "   resumo_persona_2 resumo_persona_3  \n",
       "id                                    \n",
       "4                                     "
      ]
     },
     "execution_count": 30,
     "metadata": {},
     "output_type": "execute_result"
    }
   ],
   "source": [
    "df = pd.DataFrame(materias[\"materias\"], columns=[\"id\", \"categoria\", \"url\", \"titulo\", \"subtitulo\", \"texto\", \"resumo_persona_1\", \"resumo_persona_2\", \"resumo_persona_3\"])\n",
    "\n",
    "df.set_index(\"id\", inplace=True)\n",
    "\n",
    "df[\"resumo_persona_1\"].fillna(\"\", inplace=True)\n",
    "df[\"resumo_persona_2\"].fillna(\"\", inplace=True)\n",
    "df[\"resumo_persona_3\"].fillna(\"\", inplace=True)\n",
    "\n",
    "df"
   ]
  },
  {
   "cell_type": "code",
   "execution_count": 29,
   "id": "d1af92a9",
   "metadata": {},
   "outputs": [
    {
     "name": "stdout",
     "output_type": "stream",
     "text": [
      "<class 'pandas.core.frame.DataFrame'>\n",
      "Index: 11 entries, 1 to 11\n",
      "Data columns (total 8 columns):\n",
      " #   Column            Non-Null Count  Dtype \n",
      "---  ------            --------------  ----- \n",
      " 0   categoria         11 non-null     object\n",
      " 1   url               11 non-null     object\n",
      " 2   titulo            11 non-null     object\n",
      " 3   subtitulo         11 non-null     object\n",
      " 4   texto             11 non-null     object\n",
      " 5   resumo_persona_1  11 non-null     object\n",
      " 6   resumo_persona_2  11 non-null     object\n",
      " 7   resumo_persona_3  11 non-null     object\n",
      "dtypes: object(8)\n",
      "memory usage: 792.0+ bytes\n"
     ]
    }
   ],
   "source": [
    "df.info()"
   ]
  },
  {
   "cell_type": "markdown",
   "id": "011bcb1c",
   "metadata": {},
   "source": [
    "### Gerando texto para cada persona"
   ]
  },
  {
   "cell_type": "code",
   "execution_count": null,
   "id": "8de623df",
   "metadata": {},
   "outputs": [
    {
     "name": "stdout",
     "output_type": "stream",
     "text": [
      "Gerando resumos do texto 4 - Título: Só um país é autossuficiente para dieta saudável, diz estudo\n",
      "Gerando texto para: renata\n",
      "Elabore um resumo para Renata sobre a notícia com tema principal em saúde. Como o interesse dela por saúde é moderado, mantenha o resumo breve. Foque também nos temas de economia e política, pois ela tem alto interesse neles.\n",
      " Uma pesquisa recente na revista Nature Food analisou a capacidade de 186 países de alimentar suas populações sem comércio internacional, focando na dieta Livewell, que promove uma alimentação saudável e sustentável. Apenas a Guiana alcançou autossuficiência completa nos sete grupos de alimentos essenciais. O Brasil consegue produzir cinco desses grupos, mas enfrenta déficits em verduras e peixes. O estudo revela disparidades globais, com países europeus superproduzindo carne e laticínios, enquanto nações africanas e algumas da América Latina têm dificuldades em diversos grupos alimentares. O pesquisador Jonas Stehl alerta que, embora a autossuficiência seja importante, o comércio internacional é crucial para resiliência alimentar, especialmente para evitar vulnerabilidades causadas por dependência de um único parceiro comercial.\n",
      "\n",
      "\n"
     ]
    }
   ],
   "source": [
    "summary_builder = SummaryBuilder()\n",
    "resumos = {\n",
    "    \"persona_1\": [],\n",
    "    \"persona_2\": [],\n",
    "    \"persona_3\": []\n",
    "}\n",
    "\n",
    "for index, row in df.iterrows():\n",
    "    print(f\"Gerando resumos do texto {index} - Título: {row[\"titulo\"]}\")\n",
    "    texto = row[\"texto\"]\n",
    "    texto_categoria = row[\"categoria\"]\n",
    "\n",
    "    for persona in personas[\"personas\"]:\n",
    "        # if persona[\"id\"] != 3:\n",
    "        #     continue\n",
    "        print(f\"Gerando texto para: {persona['nome']}\")\n",
    "\n",
    "        _id = persona[\"id\"]\n",
    "        preferencias = persona[\"scores\"]\n",
    "        time_do_coracao = persona[\"time_do_coracao\"]\n",
    "        nome_persona = persona['nome']\n",
    "        \n",
    "        resumo = summary_builder.get(nome_persona, texto, texto_categoria, preferencias, time_do_coracao)\n",
    "        resumos[f\"persona_{_id}\"].append(resumo)\n",
    "        \n",
    "    \n",
    "    print(\"\\n\")\n",
    "        "
   ]
  },
  {
   "cell_type": "markdown",
   "id": "121efee4",
   "metadata": {},
   "source": [
    "### Salvando resumos gerados no Dataframe"
   ]
  },
  {
   "cell_type": "code",
   "execution_count": null,
   "id": "2a4f38af",
   "metadata": {},
   "outputs": [],
   "source": [
    "for i in range(len(personas[\"personas\"])):\n",
    "    # if (i+1) != 1:\n",
    "    #     continue\n",
    "    df[f\"resumo_persona_{i + 1}\"] = resumos[f\"persona_{i + 1}\"]\n",
    "    "
   ]
  },
  {
   "cell_type": "code",
   "execution_count": null,
   "id": "3a7f6885",
   "metadata": {},
   "outputs": [],
   "source": [
    "df"
   ]
  },
  {
   "cell_type": "code",
   "execution_count": null,
   "id": "60966e54",
   "metadata": {},
   "outputs": [],
   "source": [
    "df.loc[7, \"resumo_persona_1\"]"
   ]
  },
  {
   "cell_type": "markdown",
   "id": "2904ee55",
   "metadata": {},
   "source": [
    "### Exportando para .csv"
   ]
  },
  {
   "cell_type": "code",
   "execution_count": null,
   "id": "5f1d27c6",
   "metadata": {},
   "outputs": [],
   "source": [
    "df.to_csv(\"resumos.csv\", sep=\";\", encoding=\"utf-8\")"
   ]
  },
  {
   "cell_type": "code",
   "execution_count": null,
   "id": "84d13ec5",
   "metadata": {},
   "outputs": [],
   "source": [
    "df.to_json(\"resumos.json\")"
   ]
  }
 ],
 "metadata": {
  "kernelspec": {
   "display_name": "alura-warmup",
   "language": "python",
   "name": "python3"
  },
  "language_info": {
   "codemirror_mode": {
    "name": "ipython",
    "version": 3
   },
   "file_extension": ".py",
   "mimetype": "text/x-python",
   "name": "python",
   "nbconvert_exporter": "python",
   "pygments_lexer": "ipython3",
   "version": "3.12.4"
  }
 },
 "nbformat": 4,
 "nbformat_minor": 5
}
